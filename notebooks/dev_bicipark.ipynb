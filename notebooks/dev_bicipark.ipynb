{
 "cells": [
  {
   "cell_type": "markdown",
   "metadata": {},
   "source": [
    "##IMPORTS"
   ]
  },
  {
   "cell_type": "code",
   "execution_count": 1,
   "metadata": {},
   "outputs": [],
   "source": [
    "import pandas as pd \n",
    "import requests\n",
    "import numpy as np"
   ]
  },
  {
   "cell_type": "markdown",
   "metadata": {},
   "source": [
    "##GETTING THE DATA"
   ]
  },
  {
   "cell_type": "code",
   "execution_count": 2,
   "metadata": {},
   "outputs": [],
   "source": [
    "bicipark = pd.read_csv(\"../data/raw/bicipark_stations.csv\", sep=\";\")"
   ]
  },
  {
   "cell_type": "code",
   "execution_count": 3,
   "metadata": {},
   "outputs": [],
   "source": [
    "places = requests.get(\"https://datos.madrid.es/egob/catalogo/300614-0-centros-educativos.json\")"
   ]
  },
  {
   "cell_type": "markdown",
   "metadata": {},
   "source": [
    "##CLEANING THE DATA"
   ]
  },
  {
   "cell_type": "code",
   "execution_count": 4,
   "metadata": {},
   "outputs": [],
   "source": [
    "split_bicipark = bicipark['geometry.coordinates'].str.strip('[]').str.split(',', expand=True).astype('float64')\n",
    "split_bicipark.columns = ['longitude', 'latitude']\n",
    "bicipark= pd.concat([bicipark,split_bicipark],axis=1)\n",
    "bicipark = bicipark.drop([\"Unnamed: 0\",\"zip_code\", \"enabled\", \"reserved_places\",\"geometry.type\",\"geometry.coordinates\"], axis=1)"
   ]
  },
  {
   "cell_type": "code",
   "execution_count": 5,
   "metadata": {},
   "outputs": [],
   "source": [
    "places = places.json()\n",
    "places = places[\"@graph\"]\n",
    "places = pd.json_normalize(places)\n",
    "places = places.drop([\"@id\", \"id\", \"relation\", \"address.district.@id\", \"address.area.@id\", \"address.locality\", \"address.postal-code\", \"organization.organization-desc\", \"organization.accesibility\", \"organization.schedule\", \"organization.services\", \"@type\"], axis = 1)"
   ]
  },
  {
   "cell_type": "markdown",
   "metadata": {},
   "source": [
    "##OPERATING THE DATA"
   ]
  },
  {
   "cell_type": "code",
   "execution_count": 6,
   "metadata": {},
   "outputs": [],
   "source": [
    "#Global variables\n",
    "places_lat_rad = np.radians(places['location.latitude'].to_numpy())\n",
    "places_lon_rad = np.radians(places['location.longitude'].to_numpy())\n",
    "bicipark_lat_rad = np.radians(bicipark['latitude'].to_numpy())\n",
    "bicipark_lon_rad = np.radians(bicipark['longitude'].to_numpy())"
   ]
  },
  {
   "cell_type": "code",
   "execution_count": 16,
   "metadata": {},
   "outputs": [],
   "source": [
    "def nearest_bicipark():\n",
    "    data_list_bicipark = []\n",
    "    dlat = bicipark_lat_rad[:, np.newaxis] - places_lat_rad\n",
    "    dlon = bicipark_lon_rad[:, np.newaxis] - places_lon_rad\n",
    "\n",
    "    a = np.sin(dlat / 2) ** 2 + np.cos(bicipark_lat_rad[:, np.newaxis]) * np.cos(places_lat_rad) * np.sin(dlon / 2) ** 2\n",
    "    c = 2 * np.arcsin(np.sqrt(a))\n",
    "    distance_matrix = c * 6371000 \n",
    "\n",
    "    min_distance_indices = np.argmin(distance_matrix, axis=0)\n",
    "\n",
    "    for x in range(len(places[\"title\"])):\n",
    "        station_index = min_distance_indices[x]\n",
    "        station = bicipark['stationName'].iloc[station_index]\n",
    "        station_address = bicipark[\"address\"].iloc[station_index]\n",
    "        spots_available = bicipark[\"free_places\"].iloc[station_index]\n",
    "        station_id = bicipark[\"stationId\"].iloc[station_index]\n",
    "        place_address = places[\"address.street-address\"][x]\n",
    "        place = places[\"title\"][x]\n",
    "        min_distance = round(distance_matrix[station_index, x], 2)\n",
    "        data_list_bicipark.append({\"place\": place, \"place_address\": place_address, \"station_name\": station, \"station_id\" : station_id, \"spots_available\" : spots_available, \"station_address\": station_address,  \"distance\": min_distance})\n",
    "        \n",
    "    return pd.DataFrame(data_list_bicipark)"
   ]
  },
  {
   "cell_type": "markdown",
   "metadata": {},
   "source": [
    "##SAVING THE DATA"
   ]
  },
  {
   "cell_type": "code",
   "execution_count": 17,
   "metadata": {},
   "outputs": [],
   "source": [
    "result_bicipark = nearest_bicipark()\n",
    "result_bicipark.to_csv(\"../data/results/result_bicipark.csv\", index=False)"
   ]
  }
 ],
 "metadata": {
  "kernelspec": {
   "display_name": "Python (pm1)",
   "language": "python",
   "name": "pm1"
  },
  "language_info": {
   "codemirror_mode": {
    "name": "ipython",
    "version": 3
   },
   "file_extension": ".py",
   "mimetype": "text/x-python",
   "name": "python",
   "nbconvert_exporter": "python",
   "pygments_lexer": "ipython3",
   "version": "3.9.18"
  }
 },
 "nbformat": 4,
 "nbformat_minor": 2
}
