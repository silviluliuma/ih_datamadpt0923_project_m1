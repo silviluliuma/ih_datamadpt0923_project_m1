{
 "cells": [
  {
   "cell_type": "markdown",
   "metadata": {},
   "source": [
    "##IMPORTS"
   ]
  },
  {
   "cell_type": "code",
   "execution_count": 2,
   "metadata": {},
   "outputs": [],
   "source": [
    "import pandas as pd \n",
    "import requests\n",
    "import numpy as np"
   ]
  },
  {
   "cell_type": "markdown",
   "metadata": {},
   "source": [
    "##GETTING THE DATA"
   ]
  },
  {
   "cell_type": "code",
   "execution_count": 3,
   "metadata": {},
   "outputs": [],
   "source": [
    "bicimad = pd.read_csv(\"../data/raw/bicimad_stations.csv\", sep=\"\\t\")"
   ]
  },
  {
   "cell_type": "code",
   "execution_count": 4,
   "metadata": {},
   "outputs": [],
   "source": [
    "places = requests.get(\"https://datos.madrid.es/egob/catalogo/300614-0-centros-educativos.json\")"
   ]
  },
  {
   "cell_type": "markdown",
   "metadata": {},
   "source": [
    "##CLEANING THE DATA"
   ]
  },
  {
   "cell_type": "code",
   "execution_count": 5,
   "metadata": {},
   "outputs": [],
   "source": [
    "split_bicimad = bicimad['geometry.coordinates'].str.strip('[]').str.split(',', expand=True).astype('float64')\n",
    "split_bicimad.columns = ['longitude', 'latitude']\n",
    "bicimad= pd.concat([bicimad,split_bicimad],axis=1)\n",
    "bicimad = bicimad.drop([\"Unnamed: 0\", \"geometry.coordinates\", \"light\", \"number\", \"activate\", \"no_available\", \"geometry.type\"], axis = 1) "
   ]
  },
  {
   "cell_type": "code",
   "execution_count": 6,
   "metadata": {},
   "outputs": [],
   "source": [
    "places = places.json()\n",
    "places = places[\"@graph\"]\n",
    "places = pd.json_normalize(places)\n",
    "places = places.drop([\"@id\", \"id\", \"relation\", \"address.district.@id\", \"address.area.@id\", \"address.locality\", \"address.postal-code\", \"organization.organization-desc\", \"organization.accesibility\", \"organization.schedule\", \"organization.services\", \"@type\"], axis = 1)"
   ]
  },
  {
   "cell_type": "code",
   "execution_count": 7,
   "metadata": {},
   "outputs": [],
   "source": [
    "#Global variables\n",
    "places_lat_rad = np.radians(places['location.latitude'].to_numpy())\n",
    "places_lon_rad = np.radians(places['location.longitude'].to_numpy())\n",
    "bicimad_lat_rad = np.radians(bicimad['latitude'].to_numpy())\n",
    "bicimad_lon_rad = np.radians(bicimad['longitude'].to_numpy())"
   ]
  },
  {
   "cell_type": "markdown",
   "metadata": {},
   "source": [
    "##OPERATING THE DATA"
   ]
  },
  {
   "cell_type": "code",
   "execution_count": 25,
   "metadata": {},
   "outputs": [],
   "source": [
    "def nearest_bicimad():\n",
    "    data_list = []\n",
    "    dlat = bicimad_lat_rad[:, np.newaxis] - places_lat_rad\n",
    "    dlon = bicimad_lon_rad[:, np.newaxis] - places_lon_rad\n",
    "\n",
    "    a = np.sin(dlat / 2) ** 2 + np.cos(bicimad_lat_rad[:, np.newaxis]) * np.cos(places_lat_rad) * np.sin(dlon / 2) ** 2\n",
    "    c = 2 * np.arcsin(np.sqrt(a))\n",
    "    distance_matrix = c * 6371000 \n",
    "\n",
    "    min_distance_indices = np.argmin(distance_matrix, axis=0)\n",
    "\n",
    "    for x in range(len(places[\"title\"])):\n",
    "        station_index = min_distance_indices[x]\n",
    "        station = bicimad['name'].iloc[station_index].split('- ')[1]\n",
    "        station_address = bicimad[\"address\"].iloc[station_index]\n",
    "        bikes_available = bicimad[\"dock_bikes\"].iloc[station_index]\n",
    "        station_id = bicimad[\"id\"].iloc[station_index]\n",
    "        place_address = places[\"address.street-address\"][x]\n",
    "        place = places[\"title\"][x]\n",
    "        min_distance = round(distance_matrix[station_index, x], 2)\n",
    "        data_list.append({\"place\": place, \"place_address\": place_address, \"station_name\": station, \"bikes_available\": bikes_available, \"station_id\" : station_id, \"station_address\": station_address,  \"distance\": min_distance})\n",
    "        \n",
    "    return pd.DataFrame(data_list)"
   ]
  },
  {
   "cell_type": "markdown",
   "metadata": {},
   "source": [
    "##SAVING THE DATA"
   ]
  },
  {
   "cell_type": "code",
   "execution_count": 26,
   "metadata": {},
   "outputs": [],
   "source": [
    "result_bicimad = nearest_bicimad()\n",
    "result_bicimad.to_csv(\"../data/results/result_bicimad.csv\", index=False)"
   ]
  }
 ],
 "metadata": {
  "kernelspec": {
   "display_name": "Python (pm1)",
   "language": "python",
   "name": "pm1"
  },
  "language_info": {
   "codemirror_mode": {
    "name": "ipython",
    "version": 3
   },
   "file_extension": ".py",
   "mimetype": "text/x-python",
   "name": "python",
   "nbconvert_exporter": "python",
   "pygments_lexer": "ipython3",
   "version": "3.9.18"
  }
 },
 "nbformat": 4,
 "nbformat_minor": 2
}
